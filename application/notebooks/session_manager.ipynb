{
 "cells": [
  {
   "cell_type": "code",
   "execution_count": 11,
   "metadata": {},
   "outputs": [
    {
     "name": "stdout",
     "output_type": "stream",
     "text": [
      "True\n"
     ]
    },
    {
     "data": {
      "text/plain": [
       "{'test_gen_593e5ea1-a360-4667-a9f5-68b96a49ca87': {'created_at': datetime.datetime(2025, 3, 16, 13, 13, 46, 262239),\n",
       "  'last_activity': datetime.datetime(2025, 3, 16, 13, 13, 46, 262239),\n",
       "  'status': 'inactive'},\n",
       " 'test_gen_aee62add-fba6-4085-aecd-b46d47219222': {'created_at': datetime.datetime(2025, 3, 16, 13, 13, 46, 262239),\n",
       "  'last_activity': datetime.datetime(2025, 3, 16, 13, 13, 46, 262239),\n",
       "  'status': 'active'}}"
      ]
     },
     "execution_count": 11,
     "metadata": {},
     "output_type": "execute_result"
    }
   ],
   "source": [
    "from datetime import datetime, timedelta\n",
    "# from pydantic import UUID4\n",
    "import uuid\n",
    "import pandas as pd\n",
    "from typing import Union, Dict, Any, List\n",
    "\n",
    "class Config:\n",
    "    SESSION_TIMEOUT = 3600\n",
    "\n",
    "class SessionManager:\n",
    "    def __init__(self):\n",
    "        self.session_data: Dict[str, Dict[str, List[Dict[str, Any]]]] = {}\n",
    "        self.session_info: Dict[str, Dict[str, Any]] = {}\n",
    "    \n",
    "    def create_session(self):\n",
    "        id = uuid.uuid4() \n",
    "        session_id = f\"test_gen_{id}\"\n",
    "        self.session_info[session_id] = {\n",
    "            'created_at': datetime.now(),\n",
    "            'last_activity': datetime.now(),\n",
    "            'status': 'active'\n",
    "        }\n",
    "        self.session_data[session_id] = {}\n",
    "        return session_id\n",
    "    \n",
    "    def store(self , session_id: str, key: str, data: Union[Dict[str, Any], pd.DataFrame]):\n",
    "        if session_id not in self.session_data:\n",
    "            False\n",
    "        \n",
    "        if isinstance(data, pd.DataFrame):\n",
    "            data = data.to_dict(orient='records')\n",
    "        \n",
    "        if key not in self.session_data[session_id]:\n",
    "            self.session_data[session_id][key] = []\n",
    "        self.session_data[session_id][key].append(data)\n",
    "        self.session_data[session_id][\"last_activity\"] = datetime.now()\n",
    "        # self.session_data[session_id][key]= data\n",
    "        return True\n",
    "    \n",
    "    def get(self, session_id, key = None):\n",
    "        if session_id not in self.session_data:\n",
    "            return None\n",
    "        data = self.session_data[session_id] if key is None else self.session_data[session_id].get(key, [])\n",
    "        if isinstance(data, list) and all(isinstance(d, list) for d in data) and all(isinstance(d[0], dict) for d in data if d):  # Check if list of DataFrame\n",
    "            return [pd.DataFrame(d) for d in data]\n",
    "        return data\n",
    "    \n",
    "    def end_session(self, session_id):\n",
    "        if session_id in self.session_info:\n",
    "            self.session_info[session_id][\"status\"] = \"inactive\"\n",
    "            return True\n",
    "        return False\n",
    "\n",
    "    def clean_inactive_session(self):\n",
    "        current_time = datetime.now()\n",
    "        timeout_threshold = timedelta(seconds=Config.SESSION_TIMEOUT)\n",
    "        expired_sessions = [id for id, info in self.session_info.items() if current_time - info['last_activity'] > timeout_threshold]\n",
    "        inactive_sessions = [id for id in self.session_info if self.session_info[id]['status'] == 'inactive']\n",
    "        \n",
    "        for id in expired_sessions+ inactive_sessions:\n",
    "            self.session_info.pop(id, None)\n",
    "            self.session_data.pop(id, None)\n",
    "            \n",
    "\n",
    "    def get_active_session_count(self):\n",
    "        return sum(1 for session in self.session_info.values() if session['status'] == 'active')\n",
    "\n",
    "sess_mgr = SessionManager()\n",
    "sess_id1 = sess_mgr.create_session()\n",
    "print(sess_mgr.end_session(sess_id1))\n",
    "sess_id2 = sess_mgr.create_session()\n",
    "sess_mgr.session_info"
   ]
  },
  {
   "cell_type": "code",
   "execution_count": 12,
   "metadata": {},
   "outputs": [
    {
     "name": "stdout",
     "output_type": "stream",
     "text": [
      "test_gen_593e5ea1-a360-4667-a9f5-68b96a49ca87\n",
      "{'created_at': datetime.datetime(2025, 3, 16, 13, 13, 46, 262239), 'last_activity': datetime.datetime(2025, 3, 16, 13, 13, 46, 262239), 'status': 'inactive'}\n",
      "inactive\n",
      "test_gen_aee62add-fba6-4085-aecd-b46d47219222\n",
      "{'created_at': datetime.datetime(2025, 3, 16, 13, 13, 46, 262239), 'last_activity': datetime.datetime(2025, 3, 16, 13, 13, 46, 262239), 'status': 'active'}\n",
      "active\n"
     ]
    }
   ],
   "source": [
    "for k,v in sess_mgr.session_info.items():\n",
    "    print(k)\n",
    "    print(v)\n",
    "    print(v['status'])"
   ]
  },
  {
   "cell_type": "code",
   "execution_count": 13,
   "metadata": {},
   "outputs": [],
   "source": [
    "sess_mgr.clean_inactive_session()"
   ]
  },
  {
   "cell_type": "code",
   "execution_count": 14,
   "metadata": {},
   "outputs": [
    {
     "data": {
      "text/plain": [
       "dict_items([('test_gen_aee62add-fba6-4085-aecd-b46d47219222', {'created_at': datetime.datetime(2025, 3, 16, 13, 13, 46, 262239), 'last_activity': datetime.datetime(2025, 3, 16, 13, 13, 46, 262239), 'status': 'active'})])"
      ]
     },
     "execution_count": 14,
     "metadata": {},
     "output_type": "execute_result"
    }
   ],
   "source": [
    "sess_mgr.session_info.items()"
   ]
  },
  {
   "cell_type": "code",
   "execution_count": 15,
   "metadata": {},
   "outputs": [
    {
     "data": {
      "text/plain": [
       "1"
      ]
     },
     "execution_count": 15,
     "metadata": {},
     "output_type": "execute_result"
    }
   ],
   "source": [
    "sess_mgr.get_active_session_count()"
   ]
  },
  {
   "cell_type": "code",
   "execution_count": 16,
   "metadata": {},
   "outputs": [],
   "source": [
    "# dict01 = {\n",
    "#     'A':'a'\n",
    "# }\n",
    "\n",
    "# 'A' in dict01"
   ]
  },
  {
   "cell_type": "code",
   "execution_count": 17,
   "metadata": {},
   "outputs": [],
   "source": [
    "# Lis01 = ['A', 'B', 'X']\n",
    "\n",
    "# 'A' in Lis01"
   ]
  },
  {
   "cell_type": "markdown",
   "metadata": {},
   "source": [
    "---\n",
    "---\n",
    "# With Data Frame\n",
    "\n",
    "---\n",
    "---"
   ]
  },
  {
   "cell_type": "code",
   "execution_count": 18,
   "metadata": {},
   "outputs": [
    {
     "data": {
      "text/plain": [
       "True"
      ]
     },
     "execution_count": 18,
     "metadata": {},
     "output_type": "execute_result"
    }
   ],
   "source": [
    "# sess_mgr = SessionManager()\n",
    "sess_id = sess_id2 #sess_mgr.create_session()\n",
    "\n",
    "df1 = pd.DataFrame({'Name': ['Alice', 'Bob'], 'Score': [85, 90]})\n",
    "\n",
    "df2 = pd.DataFrame({\n",
    "    'Name': ['Alice', 'Bob', 'Charlie', 'Diana', 'Ethan'],\n",
    "    'Age': [24, 31, 18, 45, 22],\n",
    "    'Department': ['Engineering', 'Marketing', 'Sales', 'HR', 'Engineering'],\n",
    "    'Salary': [75000, 65000, 50000, 85000, 72000],\n",
    "    'Start_Date': pd.to_datetime(['2021-03-15', '2019-11-01', '2023-01-10', '2015-07-22', '2022-05-30']),\n",
    "    'Performance': [4.2, 3.8, 3.6, 4.7, 4.0],\n",
    "    'Remote': [True, False, True, False, True]\n",
    "})\n",
    "\n",
    "sess_mgr.store(sess_id, \"table\", df1)\n",
    "sess_mgr.store(sess_id, \"table\", df2)\n",
    "\n",
    "sess_mgr.store(sess_id, \"input_output\", {\"input\": \"Hello\", \"output\": \"Hi\"})\n",
    "sess_mgr.store(sess_id, \"context_feedback\", {\"context\": \"first\", \"feedback\": \"good\"})"
   ]
  },
  {
   "cell_type": "code",
   "execution_count": 21,
   "metadata": {},
   "outputs": [
    {
     "data": {
      "text/plain": [
       "{'table': [[{'Name': 'Alice', 'Score': 85}, {'Name': 'Bob', 'Score': 90}],\n",
       "  [{'Name': 'Alice',\n",
       "    'Age': 24,\n",
       "    'Department': 'Engineering',\n",
       "    'Salary': 75000,\n",
       "    'Start_Date': Timestamp('2021-03-15 00:00:00'),\n",
       "    'Performance': 4.2,\n",
       "    'Remote': True},\n",
       "   {'Name': 'Bob',\n",
       "    'Age': 31,\n",
       "    'Department': 'Marketing',\n",
       "    'Salary': 65000,\n",
       "    'Start_Date': Timestamp('2019-11-01 00:00:00'),\n",
       "    'Performance': 3.8,\n",
       "    'Remote': False},\n",
       "   {'Name': 'Charlie',\n",
       "    'Age': 18,\n",
       "    'Department': 'Sales',\n",
       "    'Salary': 50000,\n",
       "    'Start_Date': Timestamp('2023-01-10 00:00:00'),\n",
       "    'Performance': 3.6,\n",
       "    'Remote': True},\n",
       "   {'Name': 'Diana',\n",
       "    'Age': 45,\n",
       "    'Department': 'HR',\n",
       "    'Salary': 85000,\n",
       "    'Start_Date': Timestamp('2015-07-22 00:00:00'),\n",
       "    'Performance': 4.7,\n",
       "    'Remote': False},\n",
       "   {'Name': 'Ethan',\n",
       "    'Age': 22,\n",
       "    'Department': 'Engineering',\n",
       "    'Salary': 72000,\n",
       "    'Start_Date': Timestamp('2022-05-30 00:00:00'),\n",
       "    'Performance': 4.0,\n",
       "    'Remote': True}]],\n",
       " 'last_activity': datetime.datetime(2025, 3, 16, 13, 13, 46, 317185),\n",
       " 'input_output': [{'input': 'Hello', 'output': 'Hi'}],\n",
       " 'context_feedback': [{'context': 'first', 'feedback': 'good'}]}"
      ]
     },
     "execution_count": 21,
     "metadata": {},
     "output_type": "execute_result"
    }
   ],
   "source": [
    "sess_mgr.get(sess_id)"
   ]
  },
  {
   "cell_type": "code",
   "execution_count": null,
   "metadata": {},
   "outputs": [
    {
     "ename": "AttributeError",
     "evalue": "'str' object has no attribute 'info'",
     "output_type": "error",
     "traceback": [
      "\u001b[1;31m---------------------------------------------------------------------------\u001b[0m",
      "\u001b[1;31mAttributeError\u001b[0m                            Traceback (most recent call last)",
      "Cell \u001b[1;32mIn[20], line 3\u001b[0m\n\u001b[0;32m      1\u001b[0m retrieved_df_list \u001b[38;5;241m=\u001b[39m sess_mgr\u001b[38;5;241m.\u001b[39mget(sess_id)\n\u001b[0;32m      2\u001b[0m \u001b[38;5;28;01mfor\u001b[39;00m df \u001b[38;5;129;01min\u001b[39;00m retrieved_df_list:\n\u001b[1;32m----> 3\u001b[0m     \u001b[38;5;28mprint\u001b[39m(df, \u001b[43mdf\u001b[49m\u001b[38;5;241;43m.\u001b[39;49m\u001b[43minfo\u001b[49m())\n\u001b[0;32m      5\u001b[0m \u001b[38;5;28mprint\u001b[39m(sess_mgr\u001b[38;5;241m.\u001b[39mget(sess_id, \u001b[38;5;124m\"\u001b[39m\u001b[38;5;124minput_output\u001b[39m\u001b[38;5;124m\"\u001b[39m))\n\u001b[0;32m      6\u001b[0m \u001b[38;5;28mprint\u001b[39m(sess_mgr\u001b[38;5;241m.\u001b[39mget(sess_id, \u001b[38;5;124m\"\u001b[39m\u001b[38;5;124mcontext_feedback\u001b[39m\u001b[38;5;124m\"\u001b[39m))\n",
      "\u001b[1;31mAttributeError\u001b[0m: 'str' object has no attribute 'info'"
     ]
    }
   ],
   "source": [
    "retrieved_df_list = sess_mgr.get(sess_id, \"table\")\n",
    "for df in retrieved_df_list:\n",
    "    print(df, df.info())\n",
    "\n",
    "print(sess_mgr.get(sess_id, \"input_output\"))\n",
    "print(sess_mgr.get(sess_id, \"context_feedback\"))"
   ]
  },
  {
   "cell_type": "code",
   "execution_count": null,
   "metadata": {},
   "outputs": [],
   "source": []
  }
 ],
 "metadata": {
  "kernelspec": {
   "display_name": "ds-env311",
   "language": "python",
   "name": "python3"
  },
  "language_info": {
   "codemirror_mode": {
    "name": "ipython",
    "version": 3
   },
   "file_extension": ".py",
   "mimetype": "text/x-python",
   "name": "python",
   "nbconvert_exporter": "python",
   "pygments_lexer": "ipython3",
   "version": "3.11.11"
  }
 },
 "nbformat": 4,
 "nbformat_minor": 2
}
